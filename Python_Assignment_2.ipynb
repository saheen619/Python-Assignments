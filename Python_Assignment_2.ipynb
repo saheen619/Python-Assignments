{
 "cells": [
  {
   "attachments": {},
   "cell_type": "markdown",
   "id": "17a5562c",
   "metadata": {},
   "source": [
    "## Python Assignment_2"
   ]
  },
  {
   "attachments": {},
   "cell_type": "markdown",
   "id": "4e50cf42",
   "metadata": {},
   "source": [
    "### 1. Write a Python program to convert kilometers to miles?\n",
    "##### Sol."
   ]
  },
  {
   "cell_type": "code",
   "execution_count": 7,
   "id": "8d5eb295",
   "metadata": {},
   "outputs": [
    {
     "name": "stdout",
     "output_type": "stream",
     "text": [
      "Enter the distance (in Kilometers) : 2.4\n",
      "The distance 2.4 Km is 3.8623199999999995 Miles\n"
     ]
    }
   ],
   "source": [
    "dis_km = float(input(\"Enter the distance (in Kilometers) : \"))\n",
    "\n",
    "#1 Km = 0.62137 Miles\n",
    "#1 Mile = 1.6093 Km's\n",
    "\n",
    "dis_miles = 1.6093 * dis_km\n",
    "print(\"The distance\",dis_km,\"Km is\", dis_miles, \"Miles\")"
   ]
  },
  {
   "attachments": {},
   "cell_type": "markdown",
   "id": "0df4e6bf",
   "metadata": {},
   "source": [
    "### 2.Write a Python program to convert Celsius to Fahrenheit?\n",
    "##### Sol."
   ]
  },
  {
   "cell_type": "code",
   "execution_count": 20,
   "id": "b26052b8",
   "metadata": {},
   "outputs": [
    {
     "name": "stdout",
     "output_type": "stream",
     "text": [
      "The temperature 37.0 Celcius is 100.4 Fahrenheit\n"
     ]
    }
   ],
   "source": [
    "temp_c = float(input(\"Enter the Temperature (in Deg. Celcius) : \"))\n",
    "\n",
    "temp_f = (1.8 * temp_c) + 33.8\n",
    "\n",
    "print(\"The temperature\",temp_c,\"Celcius is\", temp_f, \"Fahrenheit\")"
   ]
  },
  {
   "attachments": {},
   "cell_type": "markdown",
   "id": "46129b8e",
   "metadata": {},
   "source": [
    "### 3. Write a Python program to display calendar\n",
    "##### Sol."
   ]
  },
  {
   "cell_type": "code",
   "execution_count": 19,
   "id": "cd0df912",
   "metadata": {},
   "outputs": [
    {
     "name": "stdout",
     "output_type": "stream",
     "text": [
      "      May 2023\n",
      "Mo Tu We Th Fr Sa Su\n",
      " 1  2  3  4  5  6  7\n",
      " 8  9 10 11 12 13 14\n",
      "15 16 17 18 19 20 21\n",
      "22 23 24 25 26 27 28\n",
      "29 30 31\n",
      "\n"
     ]
    }
   ],
   "source": [
    "import calendar\n",
    " \n",
    "yy = 2023\n",
    "mm = 5\n",
    " \n",
    "print(calendar.month(yy, mm))"
   ]
  },
  {
   "cell_type": "code",
   "execution_count": 22,
   "id": "1ea9b411",
   "metadata": {},
   "outputs": [
    {
     "name": "stdout",
     "output_type": "stream",
     "text": [
      "                                  2023\n",
      "\n",
      "      January                   February                   March\n",
      "Mo Tu We Th Fr Sa Su      Mo Tu We Th Fr Sa Su      Mo Tu We Th Fr Sa Su\n",
      "                   1             1  2  3  4  5             1  2  3  4  5\n",
      " 2  3  4  5  6  7  8       6  7  8  9 10 11 12       6  7  8  9 10 11 12\n",
      " 9 10 11 12 13 14 15      13 14 15 16 17 18 19      13 14 15 16 17 18 19\n",
      "16 17 18 19 20 21 22      20 21 22 23 24 25 26      20 21 22 23 24 25 26\n",
      "23 24 25 26 27 28 29      27 28                     27 28 29 30 31\n",
      "30 31\n",
      "\n",
      "       April                      May                       June\n",
      "Mo Tu We Th Fr Sa Su      Mo Tu We Th Fr Sa Su      Mo Tu We Th Fr Sa Su\n",
      "                1  2       1  2  3  4  5  6  7                1  2  3  4\n",
      " 3  4  5  6  7  8  9       8  9 10 11 12 13 14       5  6  7  8  9 10 11\n",
      "10 11 12 13 14 15 16      15 16 17 18 19 20 21      12 13 14 15 16 17 18\n",
      "17 18 19 20 21 22 23      22 23 24 25 26 27 28      19 20 21 22 23 24 25\n",
      "24 25 26 27 28 29 30      29 30 31                  26 27 28 29 30\n",
      "\n",
      "        July                     August                  September\n",
      "Mo Tu We Th Fr Sa Su      Mo Tu We Th Fr Sa Su      Mo Tu We Th Fr Sa Su\n",
      "                1  2          1  2  3  4  5  6                   1  2  3\n",
      " 3  4  5  6  7  8  9       7  8  9 10 11 12 13       4  5  6  7  8  9 10\n",
      "10 11 12 13 14 15 16      14 15 16 17 18 19 20      11 12 13 14 15 16 17\n",
      "17 18 19 20 21 22 23      21 22 23 24 25 26 27      18 19 20 21 22 23 24\n",
      "24 25 26 27 28 29 30      28 29 30 31               25 26 27 28 29 30\n",
      "31\n",
      "\n",
      "      October                   November                  December\n",
      "Mo Tu We Th Fr Sa Su      Mo Tu We Th Fr Sa Su      Mo Tu We Th Fr Sa Su\n",
      "                   1             1  2  3  4  5                   1  2  3\n",
      " 2  3  4  5  6  7  8       6  7  8  9 10 11 12       4  5  6  7  8  9 10\n",
      " 9 10 11 12 13 14 15      13 14 15 16 17 18 19      11 12 13 14 15 16 17\n",
      "16 17 18 19 20 21 22      20 21 22 23 24 25 26      18 19 20 21 22 23 24\n",
      "23 24 25 26 27 28 29      27 28 29 30               25 26 27 28 29 30 31\n",
      "30 31\n",
      "\n"
     ]
    }
   ],
   "source": [
    "yy = 2023\n",
    " \n",
    "print(calendar.calendar(yy))"
   ]
  },
  {
   "attachments": {},
   "cell_type": "markdown",
   "id": "db2bf0f7",
   "metadata": {},
   "source": [
    "### 4. Write a Python program to solve quadratic equation?\n",
    "##### Sol."
   ]
  },
  {
   "cell_type": "code",
   "execution_count": 14,
   "id": "9d7d074e",
   "metadata": {},
   "outputs": [
    {
     "name": "stdout",
     "output_type": "stream",
     "text": [
      "The roots of the quadratic equation are 3.0 2.0\n"
     ]
    }
   ],
   "source": [
    "import math\n",
    "\n",
    "# Defining the coefficients of the quadratic equation\n",
    "a = 1\n",
    "b = -5\n",
    "c = 6\n",
    "\n",
    "# Calculatig the discriminant\n",
    "d = b ** 2 - 4 * a * c\n",
    "\n",
    "# Checking if the discriminant is positive, negetive or zero\n",
    "if d > 0:\n",
    "    x1 = (-b + math.sqrt(d)) / (2 * a)      # The equation has two real roots\n",
    "    x2 = (-b - math.sqrt(d)) / (2 * a)\n",
    "    print(\"The roots of the quadratic equation are\", x1, x2)\n",
    "elif d == 0:\n",
    "    x = -b / (2 * a)                        # The quadratic equation has one repeated real root\n",
    "    print(\"The root of the quadratic equation is\", x)\n",
    "else:\n",
    "    print(\"The quadratic equation has no real roots\")       \n",
    "    # The quadratic equation has no real roots"
   ]
  },
  {
   "attachments": {},
   "cell_type": "markdown",
   "id": "f70f74c9",
   "metadata": {},
   "source": [
    "### 5. Write a Python program to swap two variables without temp variable?\n",
    "##### Sol."
   ]
  },
  {
   "cell_type": "code",
   "execution_count": 1,
   "id": "3fbe6786",
   "metadata": {},
   "outputs": [
    {
     "name": "stdout",
     "output_type": "stream",
     "text": [
      "The value of a is 20\n",
      "The value of b is 10\n"
     ]
    }
   ],
   "source": [
    "a = 10\n",
    "b = 20\n",
    "\n",
    "# Swaping the values of a and b\n",
    "a = a + b   # a = 10+20 = 30\n",
    "b = a - b   # b = 10-20 = 10, ie, b=10\n",
    "a = a - b   # a = 30-10 = 20, ie, a=20\n",
    "\n",
    "# Print the values of a and b\n",
    "print(\"The value of a is\", a)\n",
    "print(\"The value of b is\", b)"
   ]
  }
 ],
 "metadata": {
  "kernelspec": {
   "display_name": "Python 3 (ipykernel)",
   "language": "python",
   "name": "python3"
  },
  "language_info": {
   "codemirror_mode": {
    "name": "ipython",
    "version": 3
   },
   "file_extension": ".py",
   "mimetype": "text/x-python",
   "name": "python",
   "nbconvert_exporter": "python",
   "pygments_lexer": "ipython3",
   "version": "3.10.7"
  }
 },
 "nbformat": 4,
 "nbformat_minor": 5
}
