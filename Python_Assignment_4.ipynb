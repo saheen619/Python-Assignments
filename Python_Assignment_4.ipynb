{
 "cells": [
  {
   "cell_type": "markdown",
   "id": "20cb4340",
   "metadata": {},
   "source": [
    "## Programming Assignment_4\n",
    "----------------"
   ]
  },
  {
   "cell_type": "markdown",
   "id": "4fdb6695",
   "metadata": {},
   "source": [
    "### 1. Write a Python Program to Find the Factorial of a Number?\n",
    "##### Sol."
   ]
  },
  {
   "cell_type": "code",
   "execution_count": null,
   "id": "0e5e7ce2",
   "metadata": {},
   "outputs": [],
   "source": [
    "# Factorial of a number n\n",
    "# n! = n * (n-1) * (n-2) * (n-3) * . . . . . . * 1"
   ]
  },
  {
   "cell_type": "code",
   "execution_count": 35,
   "id": "3d61fd10",
   "metadata": {},
   "outputs": [],
   "source": [
    "def factorial(num):\n",
    "    \"\"\"This function will find the facrorial of a number\"\"\"\n",
    "    fact = 1\n",
    "\n",
    "    try:\n",
    "        for i in range(1, num+1):\n",
    "            fact *= i\n",
    "\n",
    "    except Exception as err:\n",
    "        print(\"Error orccured. Error : \", err)\n",
    "\n",
    "    return fact"
   ]
  },
  {
   "cell_type": "code",
   "execution_count": 36,
   "id": "bdbaa710",
   "metadata": {},
   "outputs": [
    {
     "data": {
      "text/plain": [
       "120"
      ]
     },
     "execution_count": 36,
     "metadata": {},
     "output_type": "execute_result"
    }
   ],
   "source": [
    "factorial(5)"
   ]
  },
  {
   "cell_type": "markdown",
   "id": "e6beef62",
   "metadata": {},
   "source": [
    "### 2. Write a Python Program to Display the multiplication Table?\n",
    "##### Sol."
   ]
  },
  {
   "cell_type": "code",
   "execution_count": 42,
   "id": "eba74c90",
   "metadata": {},
   "outputs": [],
   "source": [
    "def multiplication_table(num, range1):\n",
    "    \"\"\"This function will print the multiplication table for a particular number for a range specified\"\"\"\n",
    "    \n",
    "    for i in range(1, range1+1):\n",
    "        print(f\"{num} x {i} = {i*num}\")"
   ]
  },
  {
   "cell_type": "code",
   "execution_count": 43,
   "id": "1d95363b",
   "metadata": {},
   "outputs": [
    {
     "name": "stdout",
     "output_type": "stream",
     "text": [
      "5 x 1 = 5\n",
      "5 x 2 = 10\n",
      "5 x 3 = 15\n",
      "5 x 4 = 20\n",
      "5 x 5 = 25\n",
      "5 x 6 = 30\n",
      "5 x 7 = 35\n",
      "5 x 8 = 40\n",
      "5 x 9 = 45\n"
     ]
    }
   ],
   "source": [
    "multiplication_table(5,9)"
   ]
  },
  {
   "cell_type": "markdown",
   "id": "7de7eba5",
   "metadata": {},
   "source": [
    "### 3. Write a Python Program to Print the Fibonacci sequence?\n",
    "##### Sol."
   ]
  },
  {
   "cell_type": "code",
   "execution_count": 49,
   "id": "14b8e06e",
   "metadata": {},
   "outputs": [],
   "source": [
    "def fibonacci_series(range1):\n",
    "    \"\"\"This function will print the fibonacci series for the range specified\"\"\"\n",
    "    try:\n",
    "        list_of_numbers = [0,1]\n",
    "        for i in range(range1):\n",
    "            list_of_numbers.append(list_of_numbers[i] + list_of_numbers[i+1])\n",
    "            i += 1\n",
    "        return list_of_numbers\n",
    "    except Exception as err:\n",
    "        return f\"Error occored. Error : {err}\""
   ]
  },
  {
   "cell_type": "code",
   "execution_count": 51,
   "id": "e52acf5e",
   "metadata": {},
   "outputs": [
    {
     "data": {
      "text/plain": [
       "[0, 1, 1, 2, 3, 5, 8, 13, 21, 34, 55, 89]"
      ]
     },
     "execution_count": 51,
     "metadata": {},
     "output_type": "execute_result"
    }
   ],
   "source": [
    "fibonacci_series(10)"
   ]
  },
  {
   "cell_type": "markdown",
   "id": "0446442e",
   "metadata": {},
   "source": [
    "### 4. Write a Python Program to Check Armstrong Number?\n",
    "##### Sol. "
   ]
  },
  {
   "cell_type": "code",
   "execution_count": null,
   "id": "5285f0fb",
   "metadata": {},
   "outputs": [],
   "source": [
    "# A given number is an armstrong number, when the sum of power to the number of digits in the given number is equal to the given number.\n",
    "# Example 1 , 1*1 = 1\n",
    "# Example 153, (1^3)+(5^3)+(3^3) = 153"
   ]
  },
  {
   "cell_type": "code",
   "execution_count": 13,
   "id": "dc4d694d",
   "metadata": {},
   "outputs": [
    {
     "name": "stdout",
     "output_type": "stream",
     "text": [
      "153 is an amstrong number\n"
     ]
    }
   ],
   "source": [
    "try:\n",
    "    num = int(input(\"Enter a number : \"))\n",
    "\n",
    "    armstrong_sum = 0\n",
    "\n",
    "    for digit in str(num):\n",
    "        armstrong_sum += (int(digit) ** len(str(num)))\n",
    "\n",
    "    if int(armstrong_sum) == num:\n",
    "        print(f\"{num} is an amstrong number\")\n",
    "    else:\n",
    "        print(num, \"is not an armstrong number\")\n",
    "\n",
    "except Exception as err:\n",
    "    print(err)"
   ]
  },
  {
   "cell_type": "markdown",
   "id": "a6f9adfe",
   "metadata": {},
   "source": [
    "### 5. Write a Python Program to Find Armstrong Number in an Interval?\n",
    "##### Sol."
   ]
  },
  {
   "cell_type": "code",
   "execution_count": 52,
   "id": "820a7db5",
   "metadata": {},
   "outputs": [
    {
     "name": "stdout",
     "output_type": "stream",
     "text": [
      "Armstrong numbers in the interval [1, 500]:\n",
      "[1, 2, 3, 4, 5, 6, 7, 8, 9, 153, 370, 371, 407]\n"
     ]
    }
   ],
   "source": [
    "def main():\n",
    "    start = int(input(\"Enter the number for which the interval starts : \"))\n",
    "    end = int(input(\"Enter the number for which the interval ends : \"))\n",
    "    result = armstrong_numbers(start, end)\n",
    "    print(f\"Armstrong numbers in the interval [{start}, {end}]:\\n{result}\")\n",
    "\n",
    "\n",
    "def armstrong_check(num):\n",
    "    armstrong_sum = 0\n",
    "    for digit in  str(num):\n",
    "        armstrong_sum += int(digit) ** (len(str(num)))\n",
    "    if armstrong_sum == num:\n",
    "        return True\n",
    "    else:\n",
    "        return False\n",
    "    \n",
    "\n",
    "def armstrong_numbers(start:int, end:int):   \n",
    "    armstrong_list = []\n",
    "    for range_num in range(start, end+1):\n",
    "        if armstrong_check(range_num) == True:\n",
    "            armstrong_list.append(range_num)\n",
    "        else:\n",
    "            pass\n",
    "    return armstrong_list\n",
    "\n",
    "\n",
    "if __name__ == \"__main__\":\n",
    "    main()"
   ]
  },
  {
   "cell_type": "markdown",
   "id": "157cad60",
   "metadata": {},
   "source": [
    "### 6. Write a Python Program to Find the Sum of Natural Numbers?\n",
    "##### Sol."
   ]
  },
  {
   "cell_type": "code",
   "execution_count": null,
   "id": "e59ff029",
   "metadata": {},
   "outputs": [],
   "source": [
    "# Natural number are numbers from 1 to infinity"
   ]
  },
  {
   "cell_type": "code",
   "execution_count": 6,
   "id": "333c15da",
   "metadata": {},
   "outputs": [
    {
     "name": "stdout",
     "output_type": "stream",
     "text": [
      "The limit input is : 10\n",
      "The sum of all natural numbers until 10 is 55\n"
     ]
    }
   ],
   "source": [
    "try:\n",
    "    num = int(input(\"Enter an number : \"))\n",
    "\n",
    "    sum = 0\n",
    "\n",
    "    if num > 0:\n",
    "        for num in range(num + 1):\n",
    "            sum += num\n",
    "        \n",
    "    print(f\"The limit input is : {num}\")\n",
    "    print(f\"The sum of all natural numbers until {num} is {sum}\")\n",
    "\n",
    "except ValueError:\n",
    "    print(\"Ente a valid number\")"
   ]
  }
 ],
 "metadata": {
  "kernelspec": {
   "display_name": "Python 3 (ipykernel)",
   "language": "python",
   "name": "python3"
  },
  "language_info": {
   "codemirror_mode": {
    "name": "ipython",
    "version": 3
   },
   "file_extension": ".py",
   "mimetype": "text/x-python",
   "name": "python",
   "nbconvert_exporter": "python",
   "pygments_lexer": "ipython3",
   "version": "3.10.7"
  }
 },
 "nbformat": 4,
 "nbformat_minor": 5
}
