{
 "cells": [
  {
   "cell_type": "markdown",
   "id": "ad3c798a",
   "metadata": {},
   "source": [
    "## Programming Assignment_3\n",
    "----------------"
   ]
  },
  {
   "cell_type": "markdown",
   "id": "fdeb4706",
   "metadata": {},
   "source": [
    "### 1. Write a Python Program to Check if a Number is Positive, Negative or Zero?\n",
    "##### Sol."
   ]
  },
  {
   "cell_type": "code",
   "execution_count": 11,
   "id": "09c3bcc9",
   "metadata": {},
   "outputs": [
    {
     "name": "stdout",
     "output_type": "stream",
     "text": [
      "-24354 Negative\n"
     ]
    }
   ],
   "source": [
    "try:\n",
    "    num = int(input(\"Enter a number: \"))\n",
    "    \n",
    "    if num < 0:\n",
    "        print(num, \"Negative\")\n",
    "    elif num > 0:\n",
    "        print(num, \"Positive\")\n",
    "    else:\n",
    "        print(\"Zero\")\n",
    "    \n",
    "except Exception as err:\n",
    "    print(\"Invalid input. Please enter a valid integer. Error : \", err)"
   ]
  },
  {
   "cell_type": "markdown",
   "id": "086bfded",
   "metadata": {},
   "source": [
    "### 2. Write a Python Program to Check if a Number is Odd or Even?\n",
    "##### Sol."
   ]
  },
  {
   "cell_type": "code",
   "execution_count": 17,
   "id": "d5f31dcd",
   "metadata": {},
   "outputs": [
    {
     "name": "stdout",
     "output_type": "stream",
     "text": [
      "4235 is an Odd number\n"
     ]
    }
   ],
   "source": [
    "try:\n",
    "    num = int(input(\"Enter a number : \"))\n",
    "\n",
    "    if num % 2 == 0:\n",
    "        print(f\"{num} is an Even number\")\n",
    "    else:\n",
    "        print(f\"{num} is an Odd number\")\n",
    "\n",
    "except Exception as err:\n",
    "    print(\"Enter a valid number. Error : \", err)"
   ]
  },
  {
   "cell_type": "markdown",
   "id": "575e4f94",
   "metadata": {},
   "source": [
    "### 3. Write a Python Program to Check Leap Year?\n",
    "##### Sol."
   ]
  },
  {
   "cell_type": "code",
   "execution_count": 22,
   "id": "a4f73839",
   "metadata": {},
   "outputs": [
    {
     "name": "stdout",
     "output_type": "stream",
     "text": [
      "2024 is a leap year.\n"
     ]
    }
   ],
   "source": [
    "try:\n",
    "    year = int(input(\"Enter a year : \"))\n",
    "\n",
    "    if year % 4 == 0:\n",
    "        if year % 100 == 0:\n",
    "            if year % 400 == 0:\n",
    "                print(f\"{year} is a leap year.\")\n",
    "            else:    \n",
    "                print(f\"{year} is NOT a leap year.\")\n",
    "        else:\n",
    "            print(f\"{year} is a leap year.\")\n",
    "    else:\n",
    "        print(f\"{year} is NOT a leap year.\")\n",
    "except:\n",
    "    print(\"Enter a valid year\")"
   ]
  },
  {
   "cell_type": "markdown",
   "id": "aa83ce63",
   "metadata": {},
   "source": [
    "### 4. Write a Python Program to Check Prime Number?\n",
    "##### Sol."
   ]
  },
  {
   "cell_type": "code",
   "execution_count": null,
   "id": "e4669189",
   "metadata": {},
   "outputs": [],
   "source": [
    "# A prime number is a positive integer greater than 1 that has no positive divisors other than 1 and itself. \n",
    "# As the rule to identify a number as a prime number,\n",
    "# 1. A prime number must be a positive integer greater than 1. \n",
    "# 2. Check if the number is divisible by any integer from 2 up to the square root of the number (rounded up to the nearest integer). \n",
    "# 3. If the number is not divisible by any integer from 2 up to the square root, then it is a prime number."
   ]
  },
  {
   "cell_type": "code",
   "execution_count": 23,
   "id": "0c224dfc",
   "metadata": {},
   "outputs": [
    {
     "name": "stdout",
     "output_type": "stream",
     "text": [
      "11 is a prime number\n"
     ]
    }
   ],
   "source": [
    "num = int(input(\"Enter a number: \"))\n",
    "\n",
    "def prime_num_check(num):\n",
    "    if num <= 1:\n",
    "        return False\n",
    "\n",
    "    for i in range(2, int(num ** 0.5) + 1):\n",
    "        if num % i == 0:\n",
    "            return False\n",
    "    \n",
    "    else:\n",
    "        return True\n",
    "\n",
    "if prime_num_check(num) == True:\n",
    "    print(f\"{num} is a prime number\")\n",
    "else:\n",
    "    print(f\"{num} is NOT a prime number\")"
   ]
  },
  {
   "cell_type": "markdown",
   "id": "b44b54ff",
   "metadata": {},
   "source": [
    "### 5. Write a Python Program to Print all Prime Numbers in an Interval of 1-10000?\n",
    "##### Sol."
   ]
  },
  {
   "cell_type": "code",
   "execution_count": 29,
   "id": "de28a359",
   "metadata": {},
   "outputs": [
    {
     "name": "stdout",
     "output_type": "stream",
     "text": [
      "The list of prime numbers in the interval [4, 50] is : [5, 7, 11, 13, 17, 19, 23, 29, 31, 37, 41, 43, 47]\n"
     ]
    }
   ],
   "source": [
    "def main():\n",
    "    start = int(input(\"Enter the satrt of the interval : \"))\n",
    "    end = int(input(\"Enter the end of the interval : \"))\n",
    "    result = prime_interval(start,end)\n",
    "    print(f\"The list of prime numbers in the interval [{start}, {end}] is : {result}\")\n",
    "\n",
    "\n",
    "def prime_num_check(num):\n",
    "    if num <= 1:\n",
    "        return False\n",
    "    for i in range(2, int(num ** 0.5) + 1):\n",
    "        if num % i == 0:\n",
    "            return False\n",
    "    else:\n",
    "        return True\n",
    "\n",
    "prime_list = []\n",
    "\n",
    "def prime_interval(start:int, end:int):\n",
    "    for i in range(start, end+1):\n",
    "        if prime_num_check(i) == True:\n",
    "            prime_list.append(i)\n",
    "        else:\n",
    "            pass\n",
    "    \n",
    "    return prime_list\n",
    "    \n",
    "if __name__ == \"__main__\":\n",
    "    main()"
   ]
  }
 ],
 "metadata": {
  "kernelspec": {
   "display_name": "Python 3 (ipykernel)",
   "language": "python",
   "name": "python3"
  },
  "language_info": {
   "codemirror_mode": {
    "name": "ipython",
    "version": 3
   },
   "file_extension": ".py",
   "mimetype": "text/x-python",
   "name": "python",
   "nbconvert_exporter": "python",
   "pygments_lexer": "ipython3",
   "version": "3.10.7"
  }
 },
 "nbformat": 4,
 "nbformat_minor": 5
}
