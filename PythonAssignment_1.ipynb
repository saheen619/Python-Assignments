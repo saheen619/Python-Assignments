{
 "cells": [
  {
   "cell_type": "markdown",
   "id": "637b47a5",
   "metadata": {},
   "source": [
    "## Programming Assignment_1\n",
    "-------------"
   ]
  },
  {
   "cell_type": "markdown",
   "id": "0c647dbe",
   "metadata": {},
   "source": [
    "### 1. Write a Python program to print \"Hello Python\"?\n",
    "##### Sol:"
   ]
  },
  {
   "cell_type": "code",
   "execution_count": 1,
   "id": "1ede9634",
   "metadata": {},
   "outputs": [
    {
     "name": "stdout",
     "output_type": "stream",
     "text": [
      "Hello Python\n"
     ]
    }
   ],
   "source": [
    "print(\"Hello Python\")"
   ]
  },
  {
   "cell_type": "markdown",
   "id": "fc18a6cd",
   "metadata": {},
   "source": [
    "### 2. Write a Python program to do arithmetical operations addition and division.?\n",
    "##### Sol:"
   ]
  },
  {
   "cell_type": "code",
   "execution_count": 11,
   "id": "d5e81491",
   "metadata": {},
   "outputs": [
    {
     "name": "stdout",
     "output_type": "stream",
     "text": [
      "Enter the first number : 3\n",
      "Enter the first number : 2\n",
      "The addition of 3 and 2 = 5.0\n",
      "The division of 3 and 2 = 1.5\n"
     ]
    }
   ],
   "source": [
    "num1 = input(\"Enter the first number : \")\n",
    "num2 = input(\"Enter the first number : \")\n",
    "          \n",
    "## Addition\n",
    "add = float(num1) + float(num2)\n",
    "\n",
    "## Division\n",
    "div = float(num1) / float(num2)\n",
    "\n",
    "print(f\"The addition of {num1} and {num2} = {add}\")\n",
    "print(f\"The division of {num1} and {num2} = {div}\")"
   ]
  },
  {
   "cell_type": "markdown",
   "id": "af6e2429",
   "metadata": {},
   "source": [
    "### 3. Write a Python program to find the area of a triangle?\n",
    "##### Sol:"
   ]
  },
  {
   "cell_type": "code",
   "execution_count": 12,
   "id": "d5d93846",
   "metadata": {},
   "outputs": [
    {
     "name": "stdout",
     "output_type": "stream",
     "text": [
      "Enter the BASE of the triangle : 25\n",
      "Enter the HEIGHT of the triangle : 50\n",
      "The Area of the triangle is : 625.0\n"
     ]
    }
   ],
   "source": [
    "b = input(\"Enter the BASE of the triangle : \")\n",
    "h = input(\"Enter the HEIGHT of the triangle : \")\n",
    "area = 0.5 * float(b) * float(h)\n",
    "print(f\"The Area of the triangle is : {area}\")"
   ]
  },
  {
   "cell_type": "markdown",
   "id": "b8140061",
   "metadata": {},
   "source": [
    "### 4. Write a Python program to swap two variables?\n",
    "##### Sol:"
   ]
  },
  {
   "cell_type": "code",
   "execution_count": 6,
   "id": "182608ba",
   "metadata": {},
   "outputs": [
    {
     "name": "stdout",
     "output_type": "stream",
     "text": [
      "Enter a word, a : Saheen\n",
      "Enter another word, b: Ahzan\n",
      "After swapping, Now the word 'a' is :  Ahzan\n",
      "After swapping, Now the word 'b' is :  Saheen\n"
     ]
    }
   ],
   "source": [
    "a = input(\"Enter a word, a : \")\n",
    "b = input(\"Enter another word, b: \")\n",
    "\n",
    "c = a\n",
    "a = b\n",
    "b = c\n",
    "\n",
    "print(\"After swapping, Now the word 'a' is : \", a)\n",
    "print(\"After swapping, Now the word 'b' is : \", b)"
   ]
  },
  {
   "cell_type": "markdown",
   "id": "3f8054c1",
   "metadata": {},
   "source": [
    "### 5. Write a Python program to generate a random number?\n",
    "##### Sol:"
   ]
  },
  {
   "cell_type": "code",
   "execution_count": 13,
   "id": "f1e76df9",
   "metadata": {},
   "outputs": [
    {
     "name": "stdout",
     "output_type": "stream",
     "text": [
      "A random float between 0 and 1 :  0.12235188064341085\n",
      "A random integer :  585\n"
     ]
    }
   ],
   "source": [
    "import random as rd\n",
    "\n",
    "print(\"A random float between 0 and 1 : \", rd.random())\n",
    "print(\"A random integer : \", rd.randint(1,1000))"
   ]
  }
 ],
 "metadata": {
  "kernelspec": {
   "display_name": "Python 3 (ipykernel)",
   "language": "python",
   "name": "python3"
  },
  "language_info": {
   "codemirror_mode": {
    "name": "ipython",
    "version": 3
   },
   "file_extension": ".py",
   "mimetype": "text/x-python",
   "name": "python",
   "nbconvert_exporter": "python",
   "pygments_lexer": "ipython3",
   "version": "3.10.7"
  }
 },
 "nbformat": 4,
 "nbformat_minor": 5
}
